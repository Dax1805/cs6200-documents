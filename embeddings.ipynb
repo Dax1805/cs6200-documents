{
  "nbformat": 4,
  "nbformat_minor": 0,
  "metadata": {
    "colab": {
      "provenance": [],
      "include_colab_link": true
    },
    "kernelspec": {
      "name": "python3",
      "display_name": "Python 3"
    }
  },
  "cells": [
    {
      "cell_type": "markdown",
      "metadata": {
        "id": "view-in-github",
        "colab_type": "text"
      },
      "source": [
        "<a href=\"https://colab.research.google.com/github/Dax1805/cs6200-documents/blob/main/embeddings.ipynb\" target=\"_parent\"><img src=\"https://colab.research.google.com/assets/colab-badge.svg\" alt=\"Open In Colab\"/></a>"
      ]
    },
    {
      "cell_type": "markdown",
      "metadata": {
        "id": "oDsn_Motja8Q"
      },
      "source": [
        "# Cross-Language Word Embeddings\n",
        "\n",
        "In class, we discussed how we can reduce the dimensionality of word representations from their original vector space to an embedding space on the order of a few hundred dimensions. Different modeling choices for word embeddings may be ultimately evaluated by the effectiveness of classification or retrieval models.\n",
        "\n",
        "In this assignment, however, we will consider another common method of evaluating word embeddings: by judging the usefulness of pairwise distances between words in the embedding space.\n",
        "\n",
        "Follow along with the examples in this notebook, and implement the sections of code flagged with **TODO**."
      ]
    },
    {
      "cell_type": "code",
      "source": [
        "## If you already have gensim, you can comment this out.\n",
        "!pip install gensim\n",
        "!pip uninstall -y numpy\n",
        "!pip cache purge\n",
        "!pip install --force-reinstall numpy==1.26.0\n",
        "!pip install --upgrade pip setuptools"
      ],
      "metadata": {
        "id": "Q1lmDByzHu66",
        "outputId": "1925d142-35c4-4ec2-8176-36fd9d85d831",
        "colab": {
          "base_uri": "https://localhost:8080/"
        }
      },
      "execution_count": 1,
      "outputs": [
        {
          "output_type": "stream",
          "name": "stdout",
          "text": [
            "Requirement already satisfied: gensim in /usr/local/lib/python3.11/dist-packages (4.3.3)\n",
            "Requirement already satisfied: numpy<2.0,>=1.18.5 in /usr/local/lib/python3.11/dist-packages (from gensim) (1.26.0)\n",
            "Requirement already satisfied: scipy<1.14.0,>=1.7.0 in /usr/local/lib/python3.11/dist-packages (from gensim) (1.13.1)\n",
            "Requirement already satisfied: smart-open>=1.8.1 in /usr/local/lib/python3.11/dist-packages (from gensim) (7.1.0)\n",
            "Requirement already satisfied: wrapt in /usr/local/lib/python3.11/dist-packages (from smart-open>=1.8.1->gensim) (1.17.2)\n",
            "Found existing installation: numpy 1.26.0\n",
            "Uninstalling numpy-1.26.0:\n",
            "  Successfully uninstalled numpy-1.26.0\n",
            "Files removed: 18 (21.9 MB)\n",
            "Collecting numpy==1.26.0\n",
            "  Downloading numpy-1.26.0-cp311-cp311-manylinux_2_17_x86_64.manylinux2014_x86_64.whl.metadata (58 kB)\n",
            "Downloading numpy-1.26.0-cp311-cp311-manylinux_2_17_x86_64.manylinux2014_x86_64.whl (18.2 MB)\n",
            "\u001b[2K   \u001b[90m━━━━━━━━━━━━━━━━━━━━━━━━━━━━━━━━━━━━━━━━\u001b[0m \u001b[32m18.2/18.2 MB\u001b[0m \u001b[31m127.8 MB/s\u001b[0m eta \u001b[36m0:00:00\u001b[0m\n",
            "\u001b[?25hInstalling collected packages: numpy\n",
            "Successfully installed numpy-1.26.0\n",
            "Requirement already satisfied: pip in /usr/local/lib/python3.11/dist-packages (25.0.1)\n",
            "Requirement already satisfied: setuptools in /usr/local/lib/python3.11/dist-packages (78.0.2)\n"
          ]
        }
      ]
    },
    {
      "cell_type": "code",
      "metadata": {
        "id": "UKm5cPMQ2xHU"
      },
      "source": [
        "import gensim\n",
        "import numpy as np\n",
        "from gensim.test.utils import datapath, get_tmpfile\n",
        "from gensim.models import Word2Vec\n",
        "from gensim.models.word2vec import LineSentence"
      ],
      "execution_count": 2,
      "outputs": []
    },
    {
      "cell_type": "markdown",
      "metadata": {
        "id": "sfKjYFDklB4c"
      },
      "source": [
        "We'll start by downloading a plain-text version of the plays of William Shakespeare."
      ]
    },
    {
      "cell_type": "code",
      "metadata": {
        "id": "Dw3bvl1yf5FB",
        "outputId": "39abe0c2-8eaa-4686-994d-b16466b6953f",
        "colab": {
          "base_uri": "https://localhost:8080/"
        }
      },
      "source": [
        "!wget http://www.ccs.neu.edu/home/dasmith/courses/cs6200/shakespeare_plays.txt\n",
        "lines = [s.split() for s in open('shakespeare_plays.txt')]"
      ],
      "execution_count": 3,
      "outputs": [
        {
          "output_type": "stream",
          "name": "stdout",
          "text": [
            "--2025-03-25 10:20:41--  http://www.ccs.neu.edu/home/dasmith/courses/cs6200/shakespeare_plays.txt\n",
            "Resolving www.ccs.neu.edu (www.ccs.neu.edu)... 52.70.229.197\n",
            "Connecting to www.ccs.neu.edu (www.ccs.neu.edu)|52.70.229.197|:80... connected.\n",
            "HTTP request sent, awaiting response... 200 OK\n",
            "Length: 4746840 (4.5M) [text/plain]\n",
            "Saving to: ‘shakespeare_plays.txt’\n",
            "\n",
            "shakespeare_plays.t 100%[===================>]   4.53M  --.-KB/s    in 0.1s    \n",
            "\n",
            "2025-03-25 10:20:41 (35.1 MB/s) - ‘shakespeare_plays.txt’ saved [4746840/4746840]\n",
            "\n"
          ]
        }
      ]
    },
    {
      "cell_type": "markdown",
      "metadata": {
        "id": "5cZ52pEflKKM"
      },
      "source": [
        "Then, we'll estimate a simple word2vec model on the Shakespeare texts."
      ]
    },
    {
      "cell_type": "code",
      "metadata": {
        "id": "eXT5BNPs_zjM"
      },
      "source": [
        "model = Word2Vec(lines)"
      ],
      "execution_count": 4,
      "outputs": []
    },
    {
      "cell_type": "markdown",
      "metadata": {
        "id": "Fzt3lG1-lw33"
      },
      "source": [
        "Even with such a small training set size, you can perform some standard analogy tasks we discussed in class."
      ]
    },
    {
      "cell_type": "code",
      "metadata": {
        "id": "i4ruAqhKC3-R",
        "outputId": "90af794b-94c6-4725-b817-052ff3c85447",
        "colab": {
          "base_uri": "https://localhost:8080/"
        }
      },
      "source": [
        "model.wv.most_similar(positive=['king','woman'], negative=['man'])"
      ],
      "execution_count": 5,
      "outputs": [
        {
          "output_type": "execute_result",
          "data": {
            "text/plain": [
              "[('queen', 0.7983104586601257),\n",
              " ('prince', 0.7396013736724854),\n",
              " ('york', 0.7378042340278625),\n",
              " ('princess', 0.7186989784240723),\n",
              " ('duke', 0.7092494368553162),\n",
              " ('clarence', 0.6882430911064148),\n",
              " ('france', 0.677958071231842),\n",
              " ('suffolk', 0.6764191389083862),\n",
              " ('warwick', 0.6740710139274597),\n",
              " ('gloucester', 0.665603518486023)]"
            ]
          },
          "metadata": {},
          "execution_count": 5
        }
      ]
    },
    {
      "cell_type": "markdown",
      "metadata": {
        "id": "AJL45y5emjA9"
      },
      "source": [
        "In other words, we want a vector close to `king` and `woman` but subtracting the dimensions that are important to `man`, i.e., `queen`. Other words are mostly noble titles important in Shakespeare's \"history\" plays.\n",
        "\n",
        "For the rest of this assignment, we will focus on finding words with similar embeddings, both within and across languages. For example, what words are similar to the name of the title character of *Othello*?"
      ]
    },
    {
      "cell_type": "code",
      "metadata": {
        "id": "1EZGroU0KPyj",
        "outputId": "16540f79-1452-44f9-ee16-3384d2f55564",
        "colab": {
          "base_uri": "https://localhost:8080/"
        }
      },
      "source": [
        "model.wv.most_similar(positive=['othello'])\n",
        "#model.wv.most_similar(positive=['brutus'])"
      ],
      "execution_count": 6,
      "outputs": [
        {
          "output_type": "execute_result",
          "data": {
            "text/plain": [
              "[('desdemona', 0.9631298184394836),\n",
              " ('iago', 0.937802791595459),\n",
              " ('emilia', 0.9329056143760681),\n",
              " ('cassio', 0.9213374257087708),\n",
              " ('ham', 0.9139888882637024),\n",
              " ('imogen', 0.9128400087356567),\n",
              " ('cleopatra', 0.9081115126609802),\n",
              " ('lucio', 0.9041749238967896),\n",
              " ('pisanio', 0.9036695957183838),\n",
              " ('troilus', 0.8940178155899048)]"
            ]
          },
          "metadata": {},
          "execution_count": 6
        }
      ]
    },
    {
      "cell_type": "markdown",
      "metadata": {
        "id": "UM2BT_7zZle3"
      },
      "source": [
        "If you know the play, you might see some familiar names.\n",
        "\n",
        "This search uses cosine similarity. In the default API, you should see the same similarity between the words `othello` and `desdemona` as in the search results above."
      ]
    },
    {
      "cell_type": "code",
      "metadata": {
        "id": "-e32-u4zYFda",
        "outputId": "4300d55a-edb4-458b-b4ed-1867225f9179",
        "colab": {
          "base_uri": "https://localhost:8080/"
        }
      },
      "source": [
        "model.wv.similarity('othello', 'desdemona')"
      ],
      "execution_count": 7,
      "outputs": [
        {
          "output_type": "execute_result",
          "data": {
            "text/plain": [
              "0.9631298"
            ]
          },
          "metadata": {},
          "execution_count": 7
        }
      ]
    },
    {
      "cell_type": "markdown",
      "metadata": {
        "id": "c49DwfAmZ6PU"
      },
      "source": [
        "**TODO**: Your **first task**, therefore, is to implement your own cosine similarity function so that you can reuse it outside of the context of the gensim model object."
      ]
    },
    {
      "cell_type": "code",
      "metadata": {
        "id": "rEj2PqpuZ5xs",
        "colab": {
          "base_uri": "https://localhost:8080/"
        },
        "outputId": "97a30afa-5118-4b19-d95c-ae35af037abf"
      },
      "source": [
        "## TODO: Implement cosim\n",
        "def cosim(v1, v2):\n",
        "  ## return cosine similarity between v1 and v2\n",
        "  A = np.dot(v1, v2)\n",
        "\n",
        "  B = np.linalg.norm(v1)\n",
        "  C = np.linalg.norm(v2)\n",
        "\n",
        "  return A / (B * C)\n",
        "\n",
        "## This should give a result similar to model.wv.similarity:\n",
        "cosim(model.wv['othello'], model.wv['desdemona'])"
      ],
      "execution_count": 8,
      "outputs": [
        {
          "output_type": "execute_result",
          "data": {
            "text/plain": [
              "0.96312994"
            ]
          },
          "metadata": {},
          "execution_count": 8
        }
      ]
    },
    {
      "cell_type": "markdown",
      "metadata": {
        "id": "3TbDqBIHbHfB"
      },
      "source": [
        "## Evaluation\n",
        "\n",
        "We could collect a lot of human judgments about how similar pairs of words, or pairs of Shakespearean characters, are. Then we could compare different word-embedding models by their ability to replicate these human judgments.\n",
        "\n",
        "If we extend our ambition to multiple languages, however, we can use a word translation task to evaluate word embeddings.\n",
        "\n",
        "We will use a subset of [Facebook AI's FastText cross-language embeddings](https://fasttext.cc/docs/en/aligned-vectors.html) for several languages. Your task will be to compare English both to French, and to *one more language* from the following set: Arabic, German, Portuguese, Russian, Spanish, Vietnamese, and Chinese."
      ]
    },
    {
      "cell_type": "code",
      "metadata": {
        "id": "FC_FXRnfq1BO",
        "outputId": "5747eaf5-ec91-4f82-e7d6-85475a7815b5",
        "colab": {
          "base_uri": "https://localhost:8080/"
        }
      },
      "source": [
        "!wget http://www.ccs.neu.edu/home/dasmith/courses/cs6200/30k.en.vec\n",
        "!wget http://www.ccs.neu.edu/home/dasmith/courses/cs6200/30k.fr.vec\n",
        "\n",
        "# TODO: uncomment at least one of these to work with another language\n",
        "# !wget http://www.ccs.neu.edu/home/dasmith/courses/cs6200/30k.ar.vec\n",
        "# !wget http://www.ccs.neu.edu/home/dasmith/courses/cs6200/30k.de.vec\n",
        "# !wget http://www.ccs.neu.edu/home/dasmith/courses/cs6200/30k.pt.vec\n",
        "# !wget http://www.ccs.neu.edu/home/dasmith/courses/cs6200/30k.ru.vec\n",
        "!wget http://www.ccs.neu.edu/home/dasmith/courses/cs6200/30k.es.vec\n",
        "# !wget http://www.ccs.neu.edu/home/dasmith/courses/cs6200/30k.vi.vec\n",
        "# !wget http://www.ccs.neu.edu/home/dasmith/courses/cs6200/30k.zh.vec"
      ],
      "execution_count": 21,
      "outputs": [
        {
          "output_type": "stream",
          "name": "stdout",
          "text": [
            "--2025-03-25 11:11:03--  http://www.ccs.neu.edu/home/dasmith/courses/cs6200/30k.en.vec\n",
            "Resolving www.ccs.neu.edu (www.ccs.neu.edu)... 52.70.229.197\n",
            "Connecting to www.ccs.neu.edu (www.ccs.neu.edu)|52.70.229.197|:80... connected.\n",
            "HTTP request sent, awaiting response... 200 OK\n",
            "Length: 67681172 (65M)\n",
            "Saving to: ‘30k.en.vec.1’\n",
            "\n",
            "30k.en.vec.1        100%[===================>]  64.54M   108MB/s    in 0.6s    \n",
            "\n",
            "2025-03-25 11:11:04 (108 MB/s) - ‘30k.en.vec.1’ saved [67681172/67681172]\n",
            "\n",
            "--2025-03-25 11:11:04--  http://www.ccs.neu.edu/home/dasmith/courses/cs6200/30k.fr.vec\n",
            "Resolving www.ccs.neu.edu (www.ccs.neu.edu)... 52.70.229.197\n",
            "Connecting to www.ccs.neu.edu (www.ccs.neu.edu)|52.70.229.197|:80... connected.\n",
            "HTTP request sent, awaiting response... 200 OK\n",
            "Length: 67802327 (65M)\n",
            "Saving to: ‘30k.fr.vec.1’\n",
            "\n",
            "30k.fr.vec.1        100%[===================>]  64.66M  90.6MB/s    in 0.7s    \n",
            "\n",
            "2025-03-25 11:11:05 (90.6 MB/s) - ‘30k.fr.vec.1’ saved [67802327/67802327]\n",
            "\n",
            "--2025-03-25 11:11:05--  http://www.ccs.neu.edu/home/dasmith/courses/cs6200/30k.es.vec\n",
            "Resolving www.ccs.neu.edu (www.ccs.neu.edu)... 52.70.229.197\n",
            "Connecting to www.ccs.neu.edu (www.ccs.neu.edu)|52.70.229.197|:80... connected.\n",
            "HTTP request sent, awaiting response... 200 OK\n",
            "Length: 67762853 (65M) [application/ecmascript]\n",
            "Saving to: ‘30k.es.vec’\n",
            "\n",
            "30k.es.vec          100%[===================>]  64.62M  88.1MB/s    in 0.7s    \n",
            "\n",
            "2025-03-25 11:11:06 (88.1 MB/s) - ‘30k.es.vec’ saved [67762853/67762853]\n",
            "\n"
          ]
        }
      ]
    },
    {
      "cell_type": "markdown",
      "metadata": {
        "id": "nmuIvGpNrJPe"
      },
      "source": [
        "We'll start by loading the word vectors from their textual file format to a dictionary mapping words to numpy arrays."
      ]
    },
    {
      "cell_type": "code",
      "metadata": {
        "id": "VbWORXkP2Vvn"
      },
      "source": [
        "def vecref(s):\n",
        "  (word, srec) = s.split(' ', 1)\n",
        "  return (word, np.fromstring(srec, sep=' '))\n",
        "\n",
        "def ftvectors(fname):\n",
        "  return { k:v for (k, v) in [vecref(s) for s in open(fname)] if len(v) > 1}\n",
        "\n",
        "envec = ftvectors('30k.en.vec')\n",
        "frvec = ftvectors('30k.fr.vec')\n",
        "\n",
        "# TODO: load vectors for one more language, such as zhvec (Chinese)\n",
        "# arvec = ftvectors('30k.ar.vec')\n",
        "# devec = ftvectors('30k.de.vec')\n",
        "# ptvec = ftvectors('30k.pt.vec')\n",
        "# ruvec = ftvectors('30k.ru.vec')\n",
        "esvec = ftvectors('30k.es.vec')\n",
        "# vivec = ftvectors('30k.vi.vec')\n",
        "# zhvec = ftvectors('30k.zh.vec')"
      ],
      "execution_count": 23,
      "outputs": []
    },
    {
      "cell_type": "markdown",
      "metadata": {
        "id": "j88E1JdueZHc"
      },
      "source": [
        "**TODO**: Your next task is to write a simple function that takes a vector and a dictionary of vectors and finds the most similar item in the dictionary. For this part of the assignment, a linear scan through the dictionary using your `cosim` function from above is acceptible."
      ]
    },
    {
      "cell_type": "code",
      "metadata": {
        "id": "gmdirYOjoSWV",
        "colab": {
          "base_uri": "https://localhost:8080/"
        },
        "outputId": "51d4f90b-1628-447f-993e-b09ee67299ba"
      },
      "source": [
        "## TODO: implement this search function\n",
        "def mostSimilar(vec, vecDict):\n",
        "  ## Use your cosim function from above\n",
        "    best_match = None\n",
        "    best_score = 0\n",
        "\n",
        "    for word, candidate_vector in vecDict.items():\n",
        "        current_score = cosim(vec, candidate_vector)\n",
        "        if current_score > best_score:\n",
        "            best_score = current_score\n",
        "            best_match = word\n",
        "\n",
        "    return (best_match, best_score)\n",
        "\n",
        "## some example searches\n",
        "[mostSimilar(envec[e], frvec) for e in ['computer', 'germany', 'matrix', 'physics', 'yeast']]"
      ],
      "execution_count": 24,
      "outputs": [
        {
          "output_type": "execute_result",
          "data": {
            "text/plain": [
              "[('informatique', 0.5023827767603765),\n",
              " ('allemagne', 0.593718413875964),\n",
              " ('matrice', 0.5088361302065517),\n",
              " ('physique', 0.4555543434796394),\n",
              " ('fermentation', 0.3504105196166514)]"
            ]
          },
          "metadata": {},
          "execution_count": 24
        }
      ]
    },
    {
      "cell_type": "markdown",
      "metadata": {
        "id": "NIKUD5qxpUMB"
      },
      "source": [
        "Some matches make more sense than others. Note that `computer` most closely matches `informatique`, the French term for *computer science*. If you looked further down the list, you would see `ordinateur`, the term for *computer*. This is one weakness of a focus only on embeddings for word *types* independent of context.\n",
        "\n",
        "To evalute cross-language embeddings more broadly, we'll look at a dataset of links between Wikipedia articles."
      ]
    },
    {
      "cell_type": "code",
      "metadata": {
        "id": "az10sIFwsEUP",
        "outputId": "67c83d5a-b6b7-4f47-d1b0-b6f988edf81e",
        "colab": {
          "base_uri": "https://localhost:8080/"
        }
      },
      "source": [
        "!wget http://www.ccs.neu.edu/home/dasmith/courses/cs6200/links.tab\n",
        "links = [s.split() for s in open('links.tab')]"
      ],
      "execution_count": 25,
      "outputs": [
        {
          "output_type": "stream",
          "name": "stdout",
          "text": [
            "--2025-03-25 11:11:40--  http://www.ccs.neu.edu/home/dasmith/courses/cs6200/links.tab\n",
            "Resolving www.ccs.neu.edu (www.ccs.neu.edu)... 52.70.229.197\n",
            "Connecting to www.ccs.neu.edu (www.ccs.neu.edu)|52.70.229.197|:80... connected.\n",
            "HTTP request sent, awaiting response... 200 OK\n",
            "Length: 1408915 (1.3M)\n",
            "Saving to: ‘links.tab.1’\n",
            "\n",
            "\rlinks.tab.1           0%[                    ]       0  --.-KB/s               \rlinks.tab.1         100%[===================>]   1.34M  --.-KB/s    in 0.04s   \n",
            "\n",
            "2025-03-25 11:11:40 (31.8 MB/s) - ‘links.tab.1’ saved [1408915/1408915]\n",
            "\n"
          ]
        }
      ]
    },
    {
      "cell_type": "markdown",
      "metadata": {
        "id": "sqHq0hFCv8NY"
      },
      "source": [
        "This `links` variable consists of triples of `(English term, language, term in that language)`. For example, here is the link between English `academy` and French `académie`:"
      ]
    },
    {
      "cell_type": "code",
      "metadata": {
        "id": "RQ7eusdxtdsq",
        "colab": {
          "base_uri": "https://localhost:8080/"
        },
        "outputId": "1c5c094a-7815-41f5-c102-91145302eef1"
      },
      "source": [
        "links[302]"
      ],
      "execution_count": 26,
      "outputs": [
        {
          "output_type": "execute_result",
          "data": {
            "text/plain": [
              "['academy', 'fr', 'académie']"
            ]
          },
          "metadata": {},
          "execution_count": 26
        }
      ]
    },
    {
      "cell_type": "markdown",
      "source": [
        "We construct a test set for English-French from the first 1000 links between those languages."
      ],
      "metadata": {
        "id": "oA85pbt3JL1Q"
      }
    },
    {
      "cell_type": "code",
      "source": [
        "frtest = [x for x in links if x[1] == \"fr\"][0:1000]\n",
        "frtest[0:10]"
      ],
      "metadata": {
        "colab": {
          "base_uri": "https://localhost:8080/"
        },
        "id": "wuYkUbkYIwSb",
        "outputId": "7b9b17bb-ed46-4295-82ba-abba5fdf5892"
      },
      "execution_count": 27,
      "outputs": [
        {
          "output_type": "execute_result",
          "data": {
            "text/plain": [
              "[['aalborg', 'fr', 'aalborg'],\n",
              " ['aarhus', 'fr', 'aarhus'],\n",
              " ['aba', 'fr', 'aba'],\n",
              " ['abad', 'fr', 'abad'],\n",
              " ['abandon', 'fr', 'abandon'],\n",
              " ['abbas', 'fr', 'abbas'],\n",
              " ['abbasid', 'fr', 'abbassides'],\n",
              " ['abbess', 'fr', 'abbesse'],\n",
              " ['abbey', 'fr', 'abbaye'],\n",
              " ['abbot', 'fr', 'abbé']]"
            ]
          },
          "metadata": {},
          "execution_count": 27
        }
      ]
    },
    {
      "cell_type": "markdown",
      "metadata": {
        "id": "bYEdOQbmwql3"
      },
      "source": [
        "**TODO**: Evaluate the English and French embeddings by computing the proportion of English Wikipedia articles whose corresponding French article in this test set `frtest` is also the closest word in embedding space. Skip English articles not covered by the word embedding dictionary.\n",
        "\n",
        "Since many articles, e.g., about named entities, have the same title in English and French, use the identity function as a baseline and compute its accuracy. In other words, how often would you find the right French articles by simply echoing the English title as if it were French? In the ten example links above, `aalborg` and `aarhus` (two cities in Denmark) are the same in English and French. Remember to iterate only over the 1000 linked Wikipedia articles in the test set, not the entire embedding dictionary."
      ]
    },
    {
      "cell_type": "code",
      "metadata": {
        "id": "RJrTJ3ja91Z4",
        "colab": {
          "base_uri": "https://localhost:8080/"
        },
        "outputId": "ec49f001-5779-4d30-c3e7-db36d0643d6d"
      },
      "source": [
        "## TODO: Compute English-French Wikipedia retrieval accuracy.\n",
        "\n",
        "correct_retrievals = 0\n",
        "correct_identity = 0\n",
        "eligible_count = 0\n",
        "\n",
        "# Iterate over the first 1000 French-linked Wikipedia articles.\n",
        "for link_entry in frtest:\n",
        "    eng_title = link_entry[0]\n",
        "    fr_title = link_entry[2]\n",
        "\n",
        "    # Skip if the article isn't in the embedding dictionary.\n",
        "    if eng_title not in envec:\n",
        "        continue\n",
        "    if fr_title not in frvec:\n",
        "        continue\n",
        "\n",
        "    eligible_count += 1\n",
        "    predicted_fr, sim_score = mostSimilar(envec[eng_title], frvec)\n",
        "\n",
        "    # Check if the predicted French title matches the actual French title.\n",
        "    if predicted_fr == fr_title:\n",
        "        correct_retrievals += 1\n",
        "\n",
        "    # Check if the English title is the same as the French title.\n",
        "    if eng_title == fr_title:\n",
        "        correct_identity += 1\n",
        "\n",
        "# Compute the proportions.\n",
        "accuracy = correct_retrievals / eligible_count if eligible_count else 0\n",
        "baselineAccuracy = correct_identity / eligible_count if eligible_count else 0\n",
        "\n",
        "print(\"Embedding-based retrieval accuracy:\", accuracy)\n",
        "print(\"Baseline (identity) accuracy:\", baselineAccuracy)"
      ],
      "execution_count": 28,
      "outputs": [
        {
          "output_type": "stream",
          "name": "stdout",
          "text": [
            "Embedding-based retrieval accuracy: 0.8443465491923642\n",
            "Baseline (identity) accuracy: 0.6064610866372981\n"
          ]
        }
      ]
    },
    {
      "cell_type": "markdown",
      "metadata": {
        "id": "7hqd1buq-OEo"
      },
      "source": [
        "**TODO**: Compute the accuracy, i.e. precision@1, of the embeddings and of the identity function for the first 1000 links between English and another language besides French. Although the baseline will be lower for languages not written in the Roman alphabet (i.e., Arabic or Chinese), there are still many articles in those languages with headwords written in Roman characters."
      ]
    },
    {
      "cell_type": "code",
      "metadata": {
        "id": "ZjnKtHya-jmj",
        "colab": {
          "base_uri": "https://localhost:8080/"
        },
        "outputId": "c192018b-6b81-4ede-f278-989fd699217d"
      },
      "source": [
        "## TODO: Compute English-X Wikipedia retrieval accuracy.\n",
        "# Filter the first 1000 links for Spanish\n",
        "estest = [entry for entry in links if entry[1] == \"es\"][:1000]\n",
        "\n",
        "correct_retrievals = 0\n",
        "correct_identity = 0\n",
        "eligible_count = 0\n",
        "\n",
        "for entry in estest:\n",
        "    eng_title = entry[0]\n",
        "    es_title = entry[2]\n",
        "\n",
        "    # Skip entries where either title isn't in the respective embedding dictionary.\n",
        "    if eng_title not in envec or es_title not in esvec:\n",
        "        continue\n",
        "\n",
        "    eligible_count += 1\n",
        "    # Predict the Spanish title using the embedding-based nearest neighbor search.\n",
        "    predicted, _ = mostSimilar(envec[eng_title], esvec)\n",
        "\n",
        "    if predicted == es_title:\n",
        "        correct_retrievals += 1\n",
        "    if eng_title == es_title:\n",
        "        correct_identity += 1\n",
        "\n",
        "# Compute precision@1\n",
        "accuracy = correct_retrievals / eligible_count if eligible_count else 0\n",
        "baselineAccuracy = correct_identity / eligible_count if eligible_count else 0\n",
        "\n",
        "print(\"Embedding-based retrieval accuracy:\", accuracy)\n",
        "print(\"Baseline (identity) accuracy:\", baselineAccuracy)"
      ],
      "execution_count": 29,
      "outputs": [
        {
          "output_type": "stream",
          "name": "stdout",
          "text": [
            "Embedding-based retrieval accuracy: 0.8284389489953632\n",
            "Baseline (identity) accuracy: 0.45904173106646057\n"
          ]
        }
      ]
    },
    {
      "cell_type": "markdown",
      "metadata": {
        "id": "E6z01sufFPJh"
      },
      "source": [
        "**TODO**: Find the 10 nearest neighbors of each English term to compute \"recall at 10\" and \"mean reciprocal rank at 10\"."
      ]
    },
    {
      "cell_type": "code",
      "source": [
        "## TODO: Compute recall@10 and MRR@10 when retrieving 10 nearest neighbors in French and some other language.\n",
        "!pip install --upgrade faiss-cpu\n",
        "import faiss\n",
        "import numpy as np\n",
        "\n",
        "# --- French FAISS index ---\n",
        "french_words = list(frvec.keys())\n",
        "french_matrix = np.stack([frvec[word] for word in french_words]).astype('float32')\n",
        "faiss.normalize_L2(french_matrix)\n",
        "index_fr = faiss.IndexFlatIP(french_matrix.shape[1])\n",
        "index_fr.add(french_matrix)\n",
        "\n",
        "# Evaluate recall@10 and MRR@10 using FAISS for French links in frtest.\n",
        "correct_retrievals = 0\n",
        "eligible_count = 0\n",
        "mrr_sum = 0.0\n",
        "\n",
        "for entry in frtest:\n",
        "    eng_title = entry[0]\n",
        "    fr_title = entry[2]\n",
        "\n",
        "    if eng_title not in envec or fr_title not in frvec:\n",
        "        continue\n",
        "    eligible_count += 1\n",
        "\n",
        "    query_vec = envec[eng_title].astype('float32').reshape(1, -1)\n",
        "    faiss.normalize_L2(query_vec)\n",
        "\n",
        "    # Retrieve the top 10 nearest neighbors:\n",
        "    distances, indices = index_fr.search(query_vec, 10)\n",
        "    retrieved_words = [french_words[i] for i in indices[0]]\n",
        "\n",
        "    rank = 0\n",
        "    for i, candidate in enumerate(retrieved_words):\n",
        "        if candidate == fr_title:\n",
        "            rank = i + 1\n",
        "            break\n",
        "    if rank:\n",
        "        correct_retrievals += 1\n",
        "        mrr_sum += 1.0 / rank\n",
        "\n",
        "recall_at_10_fr = correct_retrievals / eligible_count if eligible_count else 0\n",
        "mrr_at_10_fr = mrr_sum / eligible_count if eligible_count else 0\n",
        "\n",
        "print(\"French recall@10:\", recall_at_10_fr)\n",
        "print(\"French MRR@10:\", mrr_at_10_fr)\n"
      ],
      "metadata": {
        "id": "TgAORWTQl0Sl",
        "colab": {
          "base_uri": "https://localhost:8080/"
        },
        "outputId": "32c32ddd-5ccb-4636-9f06-1090e046d7d3"
      },
      "execution_count": 33,
      "outputs": [
        {
          "output_type": "stream",
          "name": "stdout",
          "text": [
            "Requirement already satisfied: faiss-cpu in /usr/local/lib/python3.11/dist-packages (1.10.0)\n",
            "Requirement already satisfied: numpy<3.0,>=1.25.0 in /usr/local/lib/python3.11/dist-packages (from faiss-cpu) (1.26.0)\n",
            "Requirement already satisfied: packaging in /usr/local/lib/python3.11/dist-packages (from faiss-cpu) (24.2)\n",
            "French recall@10: 0.9456681350954479\n",
            "French MRR@10: 0.8830716966179522\n"
          ]
        }
      ]
    },
    {
      "cell_type": "markdown",
      "source": [
        "## Speeding up Vector Search (required for CS6200, 20 points extra for IS4200)\n",
        "\n",
        "The list of Wikipedia headwords is short enough that a linear scan through the non-English language embeddings takes some time but is feasible. In a production system, you could index the word embeddings using SimHash or some other locality sensitive hashing scheme, as we discussed for duplicate detection, to speed up this process.\n",
        "\n",
        "A relatively easy way to get started with fast vector similarity search is to install Meta's `faiss` (Facebook AI Similarity Search) package and read [the tutorial](https://github.com/facebookresearch/faiss/wiki/Getting-started)."
      ],
      "metadata": {
        "id": "GsXoZaVsYMXR"
      }
    },
    {
      "cell_type": "code",
      "source": [
        "# Outside of colab, you may need a different package manager.\n",
        "# !apt install libomp-dev\n",
        "#!pip install --upgrade faiss-cpu\n",
        "# Use this line instead if you have a GPU.\n",
        "#!python -m pip install --upgrade faiss-gpu\n",
        "import time\n",
        "import numpy as np\n",
        "import faiss\n",
        "\n",
        "def evaluate_retrieval(test_set, envec, target_vec, target_words, method='linear', index=None):\n",
        "    correct = 0\n",
        "    total = 0\n",
        "    mrr = 0.0\n",
        "    start = time.time()\n",
        "\n",
        "    for entry in test_set:\n",
        "        eng_title = link_entry[0]\n",
        "        target_title = entry[2]\n",
        "        if eng_title not in envec or target_title not in target_vec:\n",
        "            continue\n",
        "        total += 1\n",
        "\n",
        "        # For brute-force search:\n",
        "        if method == 'linear':\n",
        "            sims = [(word, cosim(envec[eng_title], vec)) for word, vec in target_vec.items()]\n",
        "            sims.sort(key=lambda x: x[1], reverse=True)\n",
        "            neighbors = [w for w, s in sims[:10]]\n",
        "\n",
        "        # For FAISS-based search:\n",
        "        elif method == 'faiss':\n",
        "            query = envec[eng_title].astype('float32').reshape(1, -1)\n",
        "            faiss.normalize_L2(query)\n",
        "            _, idx = index.search(query, 10)\n",
        "            neighbors = [target_words[i] for i in idx[0]]\n",
        "        else:\n",
        "            raise ValueError(\"Unknown method: \" + method)\n",
        "\n",
        "        # Determine rank of the correct target headword\n",
        "        rank = 0\n",
        "        for i, word in enumerate(neighbors):\n",
        "            if word == target_title:\n",
        "                rank = i + 1\n",
        "                break\n",
        "        if rank:\n",
        "            correct += 1\n",
        "            mrr += 1.0 / rank\n",
        "\n",
        "    exec_time = time.time() - start\n",
        "    recall_at_10 = correct / total if total else 0\n",
        "    mrr_at_10 = mrr / total if total else 0\n",
        "    return recall_at_10, mrr_at_10, exec_time\n",
        "\n",
        "# French index\n",
        "french_words = list(frvec.keys())\n",
        "french_matrix = np.stack([frvec[w] for w in french_words]).astype('float32')\n",
        "faiss.normalize_L2(french_matrix)\n",
        "index_fr = faiss.IndexFlatIP(french_matrix.shape[1])\n",
        "index_fr.add(french_matrix)\n",
        "\n",
        "# Spanish index\n",
        "spanish_words = list(esvec.keys())\n",
        "spanish_matrix = np.stack([esvec[w] for w in spanish_words]).astype('float32')\n",
        "faiss.normalize_L2(spanish_matrix)\n",
        "index_es = faiss.IndexFlatIP(spanish_matrix.shape[1])\n",
        "index_es.add(spanish_matrix)\n",
        "\n",
        "fr_test = [entry for entry in links if entry[1] == \"fr\"][:1000]\n",
        "es_test = [entry for entry in links if entry[1] == \"es\"][:1000]\n",
        "\n",
        "# French: Brute-force\n",
        "recall_lin_fr, mrr_lin_fr, time_lin_fr = evaluate_retrieval(fr_test, envec, frvec, french_words, method='linear')\n",
        "# French: FAISS\n",
        "recall_faiss_fr, mrr_faiss_fr, time_faiss_fr = evaluate_retrieval(fr_test, envec, frvec, french_words, method='faiss', index=index_fr)\n",
        "\n",
        "print(\"French Brute-Force: Recall@10 = {:.4f}, MRR@10 = {:.4f}, Time = {:.4f} sec\".format(recall_lin_fr, mrr_lin_fr, time_lin_fr))\n",
        "print(\"French FAISS:       Recall@10 = {:.4f}, MRR@10 = {:.4f}, Time = {:.4f} sec\".format(recall_faiss_fr, mrr_faiss_fr, time_faiss_fr))\n",
        "\n",
        "# Spanish: Brute-force\n",
        "recall_lin_es, mrr_lin_es, time_lin_es = evaluate_retrieval(es_test, envec, esvec, spanish_words, method='linear')\n",
        "# Spanish: FAISS\n",
        "recall_faiss_es, mrr_faiss_es, time_faiss_es = evaluate_retrieval(es_test, envec, esvec, spanish_words, method='faiss', index=index_es)\n",
        "\n",
        "print(\"Spanish Brute-Force: Recall@10 = {:.4f}, MRR@10 = {:.4f}, Time = {:.4f} sec\".format(recall_lin_es, mrr_lin_es, time_lin_es))\n",
        "print(\"Spanish FAISS:       Recall@10 = {:.4f}, MRR@10 = {:.4f}, Time = {:.4f} sec\".format(recall_faiss_es, mrr_faiss_es, time_faiss_es))"
      ],
      "metadata": {
        "id": "KSJ-c9PDKHaD",
        "outputId": "23efbf5a-27cb-483d-b2e7-58dfce42e131",
        "colab": {
          "base_uri": "https://localhost:8080/"
        }
      },
      "execution_count": 37,
      "outputs": [
        {
          "output_type": "stream",
          "name": "stdout",
          "text": [
            "French Brute-Force: Recall@10 = 0.0029, MRR@10 = 0.0020, Time = 197.1706 sec\n",
            "French FAISS:       Recall@10 = 0.0029, MRR@10 = 0.0020, Time = 2.3960 sec\n",
            "Spanish Brute-Force: Recall@10 = 0.0015, MRR@10 = 0.0008, Time = 187.8518 sec\n",
            "Spanish FAISS:       Recall@10 = 0.0015, MRR@10 = 0.0008, Time = 2.1614 sec\n"
          ]
        }
      ]
    },
    {
      "cell_type": "markdown",
      "source": [
        "**TODO**: Create two vector indexes, for the FastText embeddings of French and for the other language you evaluated above. Use `faiss` to find the 10 nearest neighbors for the top 1000 Wikipedia headwords you evaluated for English-French and the English-X as above.\n",
        "\n",
        "First, measure the _effectiveness_ of this approximate vector search approach. How does the R@10 and MRR@10 using `faiss` compare to the brute-force search you did above?\n",
        "\n",
        "Second, measure the _efficiency_ of this approach. How long in seconds does finding nearest neighbors for 1000 headwords by brute force compare to using `faiss`? (For this exercise, don't worry about amortizing indexing costs.)"
      ],
      "metadata": {
        "id": "hfr0buVwLz-o"
      }
    }
  ]
}