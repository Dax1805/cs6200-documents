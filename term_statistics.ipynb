{
  "nbformat": 4,
  "nbformat_minor": 0,
  "metadata": {
    "colab": {
      "name": "term-statistics.ipynb",
      "provenance": [],
      "include_colab_link": true
    },
    "kernelspec": {
      "name": "python3",
      "display_name": "Python 3"
    },
    "language_info": {
      "name": "python"
    }
  },
  "cells": [
    {
      "cell_type": "markdown",
      "metadata": {
        "id": "view-in-github",
        "colab_type": "text"
      },
      "source": [
        "<a href=\"https://colab.research.google.com/github/Dax1805/YOLOv3-object-detection-tutorial/blob/master/term_statistics.ipynb\" target=\"_parent\"><img src=\"https://colab.research.google.com/assets/colab-badge.svg\" alt=\"Open In Colab\"/></a>"
      ]
    },
    {
      "cell_type": "markdown",
      "metadata": {
        "id": "2yYCQrU0J5C5"
      },
      "source": [
        "# Working with Terms and Documents\n",
        "\n",
        "This exercise starts off with term statistics computations and graphing. In the final section (for CS6200 students), you collect new documents to experiment with.\n",
        "\n",
        "Read through this Jupyter notebook and fill in the parts marked with `TODO`."
      ]
    },
    {
      "cell_type": "markdown",
      "metadata": {
        "id": "tA4bCPS1MmAx"
      },
      "source": [
        "## Sample Data\n",
        "\n",
        "Start by looking at some sample data. We donwload the counts of terms in documents for the first one million tokens of a newswire collection."
      ]
    },
    {
      "cell_type": "code",
      "metadata": {
        "id": "W-IMINS4IFUg",
        "outputId": "08b465fd-3ca4-4031-f22d-13c771e39caf",
        "colab": {
          "base_uri": "https://localhost:8080/"
        }
      },
      "source": [
        "!wget -O ap201001.json.gz https://github.com/dasmiq/cs6200-documents/blob/main/ap201001.json.gz?raw=true\n",
        "!gunzip ap201001.json.gz"
      ],
      "execution_count": 10,
      "outputs": [
        {
          "output_type": "stream",
          "name": "stdout",
          "text": [
            "--2025-01-31 03:39:18--  https://github.com/dasmiq/cs6200-documents/blob/main/ap201001.json.gz?raw=true\n",
            "Resolving github.com (github.com)... 140.82.114.3\n",
            "Connecting to github.com (github.com)|140.82.114.3|:443... connected.\n",
            "HTTP request sent, awaiting response... 302 Found\n",
            "Location: https://github.com/dasmiq/cs6200-documents/raw/refs/heads/main/ap201001.json.gz [following]\n",
            "--2025-01-31 03:39:18--  https://github.com/dasmiq/cs6200-documents/raw/refs/heads/main/ap201001.json.gz\n",
            "Reusing existing connection to github.com:443.\n",
            "HTTP request sent, awaiting response... 302 Found\n",
            "Location: https://raw.githubusercontent.com/dasmiq/cs6200-documents/refs/heads/main/ap201001.json.gz [following]\n",
            "--2025-01-31 03:39:18--  https://raw.githubusercontent.com/dasmiq/cs6200-documents/refs/heads/main/ap201001.json.gz\n",
            "Resolving raw.githubusercontent.com (raw.githubusercontent.com)... 185.199.109.133, 185.199.110.133, 185.199.111.133, ...\n",
            "Connecting to raw.githubusercontent.com (raw.githubusercontent.com)|185.199.109.133|:443... connected.\n",
            "HTTP request sent, awaiting response... 200 OK\n",
            "Length: 2854711 (2.7M) [application/octet-stream]\n",
            "Saving to: ‘ap201001.json.gz’\n",
            "\n",
            "ap201001.json.gz    100%[===================>]   2.72M  --.-KB/s    in 0.08s   \n",
            "\n",
            "2025-01-31 03:39:19 (34.0 MB/s) - ‘ap201001.json.gz’ saved [2854711/2854711]\n",
            "\n",
            "gzip: ap201001.json already exists; do you wish to overwrite (y or n)? y\n"
          ]
        }
      ]
    },
    {
      "cell_type": "markdown",
      "metadata": {
        "id": "_SEFjGZvM4lY"
      },
      "source": [
        "We convert this file with one JSON record on each line to a list of dictionaries."
      ]
    },
    {
      "cell_type": "code",
      "metadata": {
        "id": "6CrLD5SOIMz1"
      },
      "source": [
        "import json\n",
        "rawfile = open('ap201001.json')\n",
        "terms = [json.loads(line) for line in rawfile]"
      ],
      "execution_count": 11,
      "outputs": []
    },
    {
      "cell_type": "markdown",
      "metadata": {
        "id": "Rg4P9XJJM_lZ"
      },
      "source": [
        "Here are the first ten records, showing the count of each term for each document and field. In this dataset, field only takes the values `body` or `title`."
      ]
    },
    {
      "cell_type": "code",
      "metadata": {
        "colab": {
          "base_uri": "https://localhost:8080/"
        },
        "id": "g8GdOuyzI0wm",
        "outputId": "ad5b00be-8a34-4e73-d926-ec51ffb5176c"
      },
      "source": [
        "terms[1:10]"
      ],
      "execution_count": 12,
      "outputs": [
        {
          "output_type": "execute_result",
          "data": {
            "text/plain": [
              "[{'id': 'APW_ENG_20100101.0001', 'field': 'body', 'term': 'about', 'count': 1},\n",
              " {'id': 'APW_ENG_20100101.0001', 'field': 'body', 'term': 'abuse', 'count': 1},\n",
              " {'id': 'APW_ENG_20100101.0001',\n",
              "  'field': 'body',\n",
              "  'term': 'academy',\n",
              "  'count': 1},\n",
              " {'id': 'APW_ENG_20100101.0001',\n",
              "  'field': 'body',\n",
              "  'term': 'accused',\n",
              "  'count': 2},\n",
              " {'id': 'APW_ENG_20100101.0001',\n",
              "  'field': 'body',\n",
              "  'term': 'actress',\n",
              "  'count': 1},\n",
              " {'id': 'APW_ENG_20100101.0001', 'field': 'body', 'term': 'ad', 'count': 1},\n",
              " {'id': 'APW_ENG_20100101.0001', 'field': 'body', 'term': 'after', 'count': 1},\n",
              " {'id': 'APW_ENG_20100101.0001',\n",
              "  'field': 'body',\n",
              "  'term': 'agenda',\n",
              "  'count': 1},\n",
              " {'id': 'APW_ENG_20100101.0001',\n",
              "  'field': 'body',\n",
              "  'term': 'agreed',\n",
              "  'count': 1}]"
            ]
          },
          "metadata": {},
          "execution_count": 12
        }
      ]
    },
    {
      "cell_type": "markdown",
      "metadata": {
        "id": "q-CjFLXH3BJg"
      },
      "source": [
        "Each record has four fields:\n",
        "* `id`, with the identifier for the document;\n",
        "* `field`, with the region of the document containing a given term;\n",
        "* `term`, with the lower-cased term; and\n",
        "* `count`, with the number of times each term occurred in that field and document."
      ]
    },
    {
      "cell_type": "markdown",
      "metadata": {
        "id": "2H5yBvEVNUPr"
      },
      "source": [
        "## Computing Term Statistics\n"
      ]
    },
    {
      "cell_type": "code",
      "source": [
        "## Build the documents dictionary(Helper fn)\n",
        "from collections import defaultdict\n",
        "\n",
        "documents = defaultdict(lambda: defaultdict(int))\n",
        "\n",
        "for entry in terms:\n",
        "    documents[entry[\"id\"]][entry[\"term\"]] += entry[\"count\"]\n",
        "\n",
        "documents = dict(documents)"
      ],
      "metadata": {
        "id": "a70gZ_hhZ_Oh"
      },
      "execution_count": 27,
      "outputs": []
    },
    {
      "cell_type": "markdown",
      "metadata": {
        "id": "qhDt23kKv0Uy"
      },
      "source": [
        "If we look at the most frequent terms for a given document, we mostly see common function words, such as `the`, `and`, and `of`. Start exploring the dataset by computing some of these basic term statistics. You can make your life easier using data frame libraries such as `pandas`, core python libraries such as `collections`, or just simple list comprehensions.\n",
        "\n",
        "Feel free to define helper functions in your code before computing the statistics we're looking for."
      ]
    },
    {
      "cell_type": "code",
      "metadata": {
        "id": "2Zy5qR562nZ5",
        "outputId": "a2a04d83-4d1e-48fc-aabf-98192e8b9990",
        "colab": {
          "base_uri": "https://localhost:8080/"
        }
      },
      "source": [
        "# TODO: Print the 10 terms from document APW_ENG_20100101.0001 with the highest count.\n",
        "from collections import Counter\n",
        "\n",
        "doc_id = \"APW_ENG_20100101.0001\"\n",
        "\n",
        "if doc_id in documents:\n",
        "    top_terms = Counter(documents[doc_id]).most_common(10)\n",
        "\n",
        "    print(f\"Top 10 terms of {doc_id}:\")\n",
        "    for term, count in top_terms:\n",
        "        print(f\"{term}: {count}\")\n",
        "else:\n",
        "    print(f\"Document {doc_id} not found!\")"
      ],
      "execution_count": 28,
      "outputs": [
        {
          "output_type": "stream",
          "name": "stdout",
          "text": [
            "Top 10 terms in document APW_ENG_20100101.0001:\n",
            "a: 16\n",
            "the: 11\n",
            "and: 10\n",
            "brooks: 10\n",
            "of: 10\n",
            "to: 10\n",
            "he: 9\n",
            "in: 9\n",
            "gomez: 8\n",
            "for: 6\n"
          ]
        }
      ]
    },
    {
      "cell_type": "code",
      "metadata": {
        "id": "U7OwCo0w5R1q",
        "outputId": "4f231b04-0ae4-4394-c065-d31852856c71",
        "colab": {
          "base_uri": "https://localhost:8080/"
        }
      },
      "source": [
        "# TODO: Print the 10 terms with the highest total count in the corpus.\n",
        "\n",
        "corpus_term_counts = Counter()\n",
        "\n",
        "for doc_id, term_counts in documents.items():\n",
        "    corpus_term_counts.update(term_counts)\n",
        "\n",
        "top_corpus_terms = corpus_term_counts.most_common(10)\n",
        "\n",
        "print(\"Top 10 terms in the corpus:\")\n",
        "for term, count in top_corpus_terms:\n",
        "    print(f\"{term}: {count}\")"
      ],
      "execution_count": 29,
      "outputs": [
        {
          "output_type": "stream",
          "name": "stdout",
          "text": [
            "Top 10 terms in the corpus:\n",
            "the: 62216\n",
            "to: 26931\n",
            "in: 25659\n",
            "a: 23383\n",
            "of: 22326\n",
            "and: 22125\n",
            "said: 10888\n",
            "for: 9716\n",
            "on: 9382\n",
            "that: 8942\n"
          ]
        }
      ]
    },
    {
      "cell_type": "markdown",
      "metadata": {
        "id": "dnNEUACW23Dd"
      },
      "source": [
        "Raw counts may not be the most informative statistic. One common improvement is to use *inverse document frequency*, the inverse of the proportion of documents that contain a given term."
      ]
    },
    {
      "cell_type": "code",
      "metadata": {
        "id": "uiUA502P2QkH",
        "outputId": "59bf7f26-6115-4924-c788-b97e902cc74f",
        "colab": {
          "base_uri": "https://localhost:8080/"
        }
      },
      "source": [
        "# TODO: Compute the number of distinct documents in the collection.\n",
        "N = len(documents)\n",
        "print(f\"Total number of distinct documents: {N}\")\n",
        "\n",
        "# TODO: Compute the number of distinct documents each term appears in\n",
        "# and store in a dictionary.\n",
        "df = defaultdict(int)\n",
        "\n",
        "for doc_id, term_counts in documents.items():\n",
        "    for term in term_counts.keys():\n",
        "        df[term] += 1\n",
        "df = dict(df)\n",
        "\n",
        "print(\"Sample document frequencies for some terms:\")\n",
        "for term, count in list(df.items())[:10]:\n",
        "    print(f\"{term}: {count}\")"
      ],
      "execution_count": 44,
      "outputs": [
        {
          "output_type": "stream",
          "name": "stdout",
          "text": [
            "Total number of distinct documents: 2778\n",
            "Sample document frequencies for some terms:\n",
            "a: 2571\n",
            "about: 1077\n",
            "abuse: 26\n",
            "academy: 20\n",
            "accused: 201\n",
            "actress: 23\n",
            "ad: 16\n",
            "after: 1484\n",
            "agenda: 16\n",
            "agreed: 163\n"
          ]
        }
      ]
    },
    {
      "cell_type": "code",
      "metadata": {
        "id": "_XMPAKYNCq6Y",
        "outputId": "75309771-4607-4464-b63e-c570c41607e8",
        "colab": {
          "base_uri": "https://localhost:8080/"
        }
      },
      "source": [
        "# TODO: Print the relative document frequency of 'the',\n",
        "# i.e., the number of documents that contain 'the' divided by N.\n",
        "term = \"the\"\n",
        "\n",
        "if term in df:\n",
        "    relative_df = df[term] / N  # Compute relative document frequency\n",
        "    print(f\"Relative document frequency of '{term}': {relative_df:.4f}\")\n",
        "else:\n",
        "    print(f\"Term '{term}' not found in the corpus.\")"
      ],
      "execution_count": 31,
      "outputs": [
        {
          "output_type": "stream",
          "name": "stdout",
          "text": [
            "Relative document frequency of 'the': 0.9705\n"
          ]
        }
      ]
    },
    {
      "cell_type": "markdown",
      "metadata": {
        "id": "ohFmwtc7Chy3"
      },
      "source": [
        "Empricially, we usually see better retrieval results if we rescale term frequency (within documents) and inverse document frequency (across documents) with the log function. Let the `tfidf` of term _t_ in document _d_ be:\n",
        "```\n",
        "tfidf(t, d) = log(count(t, d) + 1) * log(N / df(t))\n",
        "```\n",
        "\n",
        "Later in the course, we will show a probabilistic derivation of this quantity based on smoothing language models."
      ]
    },
    {
      "cell_type": "code",
      "metadata": {
        "id": "Fmyj4v_uHdyo",
        "outputId": "7cfe6667-a38b-4f3b-e617-fb2954e14a47",
        "colab": {
          "base_uri": "https://localhost:8080/"
        }
      },
      "source": [
        "# TODO: Compute the tf-idf value for each term in each document.\n",
        "# Take the raw term data and add a tfidf field to each record.\n",
        "import math\n",
        "\n",
        "tfidf_terms = []\n",
        "\n",
        "for entry in terms:\n",
        "    doc_id = entry[\"id\"]\n",
        "    term = entry[\"term\"]\n",
        "    count = entry[\"count\"]\n",
        "\n",
        "    if term in df:\n",
        "        tf = math.log(count + 1)\n",
        "        idf = math.log(N / df[term])\n",
        "\n",
        "        tfidf_value = tf * idf\n",
        "\n",
        "        tfidf_terms.append({\n",
        "            \"id\": doc_id,\n",
        "            \"term\": term,\n",
        "            \"count\": count,\n",
        "            \"tfidf\": tfidf_value\n",
        "        })\n",
        "\n",
        "print(\"Sample TF-IDF values:\")\n",
        "for record in tfidf_terms[:10]:\n",
        "    print(record)"
      ],
      "execution_count": 32,
      "outputs": [
        {
          "output_type": "stream",
          "name": "stdout",
          "text": [
            "Sample TF-IDF values:\n",
            "{'id': 'APW_ENG_20100101.0001', 'term': 'a', 'count': 16, 'tfidf': 0.21939360394288007}\n",
            "{'id': 'APW_ENG_20100101.0001', 'term': 'about', 'count': 1, 'tfidf': 0.6567928905987198}\n",
            "{'id': 'APW_ENG_20100101.0001', 'term': 'abuse', 'count': 1, 'tfidf': 3.2379607976016733}\n",
            "{'id': 'APW_ENG_20100101.0001', 'term': 'academy', 'count': 1, 'tfidf': 3.419817847796999}\n",
            "{'id': 'APW_ENG_20100101.0001', 'term': 'accused', 'count': 2, 'tfidf': 2.8851553947936432}\n",
            "{'id': 'APW_ENG_20100101.0001', 'term': 'actress', 'count': 1, 'tfidf': 3.3229422514900757}\n",
            "{'id': 'APW_ENG_20100101.0001', 'term': 'ad', 'count': 1, 'tfidf': 3.5744891712505766}\n",
            "{'id': 'APW_ENG_20100101.0001', 'term': 'after', 'count': 1, 'tfidf': 0.43459641976770297}\n",
            "{'id': 'APW_ENG_20100101.0001', 'term': 'agenda', 'count': 1, 'tfidf': 3.5744891712505766}\n",
            "{'id': 'APW_ENG_20100101.0001', 'term': 'agreed', 'count': 1, 'tfidf': 1.9655826367575198}\n"
          ]
        }
      ]
    },
    {
      "cell_type": "code",
      "metadata": {
        "id": "NlXQmMO9HxH0",
        "outputId": "5ae2075b-1aa0-43a6-c410-f94b78be3e5b",
        "colab": {
          "base_uri": "https://localhost:8080/"
        }
      },
      "source": [
        "# TODO: Print the 20 term-document pairs with the highest tf-idf values.\n",
        "top_tfidf_terms = sorted(tfidf_terms, key=lambda x: x[\"tfidf\"], reverse=True)[:20]\n",
        "\n",
        "print(\"Top 20 term-document pairs with the highest TF-IDF values:\")\n",
        "for record in top_tfidf_terms:\n",
        "    print(f\"Document: {record['id']}, Term: {record['term']}, TF-IDF: {record['tfidf']:.4f}\")"
      ],
      "execution_count": 33,
      "outputs": [
        {
          "output_type": "stream",
          "name": "stdout",
          "text": [
            "Top 20 term-document pairs with the highest TF-IDF values:\n",
            "Document: APW_ENG_20100103.0028, Term: guarani, TF-IDF: 23.2929\n",
            "Document: APW_ENG_20100105.0061, Term: nomination, TF-IDF: 22.5194\n",
            "Document: APW_ENG_20100105.0446, Term: methane, TF-IDF: 21.9852\n",
            "Document: APW_ENG_20100103.0015, Term: kheire, TF-IDF: 21.4734\n",
            "Document: APW_ENG_20100105.0014, Term: greyhound, TF-IDF: 21.4734\n",
            "Document: APW_ENG_20100107.0036, Term: shakespeare, TF-IDF: 21.3070\n",
            "Document: APW_ENG_20100105.0061, Term: guild, TF-IDF: 20.6675\n",
            "Document: APW_ENG_20100106.0428, Term: shakespeare, TF-IDF: 20.5021\n",
            "Document: APW_ENG_20100102.0197, Term: elkhart, TF-IDF: 20.3387\n",
            "Document: APW_ENG_20100106.0075, Term: magna, TF-IDF: 20.3387\n",
            "Document: APW_ENG_20100106.1325, Term: sutton, TF-IDF: 19.9209\n",
            "Document: APW_ENG_20100104.0043, Term: tohti, TF-IDF: 19.7040\n",
            "Document: APW_ENG_20100105.0014, Term: greyhounds, TF-IDF: 19.7040\n",
            "Document: APW_ENG_20100107.0018, Term: krewe, TF-IDF: 19.7040\n",
            "Document: APW_ENG_20100107.0928, Term: minhas, TF-IDF: 19.7040\n",
            "Document: APW_ENG_20100105.0061, Term: golden, TF-IDF: 19.3026\n",
            "Document: APW_ENG_20100105.0061, Term: actors, TF-IDF: 19.2808\n",
            "Document: APW_ENG_20100107.0018, Term: pirate, TF-IDF: 19.2415\n",
            "Document: APW_ENG_20100103.0016, Term: punk, TF-IDF: 19.0971\n",
            "Document: APW_ENG_20100104.0108, Term: shiites, TF-IDF: 19.0141\n"
          ]
        }
      ]
    },
    {
      "cell_type": "markdown",
      "metadata": {
        "id": "f61xitl1IApl"
      },
      "source": [
        "## Plotting Term Distributions\n",
        "\n",
        "Besides frequencies and tf-idf values within documents, it is often helpful to look at the distrubitions of word frequencies in the whole collection. In class, we talk about the Zipf distribution of word rank versus frequency and Heaps' Law relating the number of distinct words to the number of tokens.\n",
        "\n",
        "We might examine these distributions to see, for instance, if an unexpectedly large number of very rare terms occurs, which might indicate noise added to our data."
      ]
    },
    {
      "cell_type": "code",
      "metadata": {
        "id": "fsM5k1_5Jj7Y",
        "outputId": "0eaaa07a-1be1-4c6e-c9d9-64c0d157bd05",
        "colab": {
          "base_uri": "https://localhost:8080/"
        }
      },
      "source": [
        "# TODO: Compute a list of the distinct words in this collection and sort it in descending order of frequency.\n",
        "# Thus frequency[0] should contain the word \"the\" and the count 62216.\n",
        "\n",
        "corpus_term_counts = Counter()\n",
        "\n",
        "for term_counts in documents.values():\n",
        "    corpus_term_counts.update(term_counts)\n",
        "\n",
        "frequency = sorted(corpus_term_counts.items(), key=lambda x: x[1], reverse=True)\n",
        "\n",
        "print(\"Top 10 most frequent words in the corpus:\")\n",
        "for term, count in frequency[:10]:\n",
        "    print(f\"{term}: {count}\")"
      ],
      "execution_count": 34,
      "outputs": [
        {
          "output_type": "stream",
          "name": "stdout",
          "text": [
            "Top 10 most frequent words in the corpus:\n",
            "the: 62216\n",
            "to: 26931\n",
            "in: 25659\n",
            "a: 23383\n",
            "of: 22326\n",
            "and: 22125\n",
            "said: 10888\n",
            "for: 9716\n",
            "on: 9382\n",
            "that: 8942\n"
          ]
        }
      ]
    },
    {
      "cell_type": "code",
      "metadata": {
        "id": "hdtc14EULkxS",
        "outputId": "4e23c45c-7273-473e-8bfa-c56d3f5a5bd1",
        "colab": {
          "base_uri": "https://localhost:8080/",
          "height": 529
        }
      },
      "source": [
        "# TODO: Plot a graph of the log of the rank (starting at 1) on the x-axis,\n",
        "# against the log of the frequency on the y-axis. You may use the matplotlib\n",
        "# or other library.\n",
        "\n",
        "import matplotlib.pyplot as plt\n",
        "import numpy as np\n",
        "\n",
        "ranks = np.log(np.arange(1, len(frequency) + 1))\n",
        "frequencies = np.log([count for _, count in frequency])\n",
        "\n",
        "plt.figure(figsize=(8, 6))\n",
        "plt.scatter(ranks, frequencies, alpha=0.3, s=5)\n",
        "plt.xlabel(\"Log (Rank)\")\n",
        "plt.ylabel(\"Log (Frequency)\")\n",
        "plt.grid(True)\n",
        "\n",
        "plt.show()"
      ],
      "execution_count": 36,
      "outputs": [
        {
          "output_type": "display_data",
          "data": {
            "text/plain": [
              "<Figure size 800x600 with 1 Axes>"
            ],
            "image/png": "[encoded data removed]"
          },
          "metadata": {}
        }
      ]
    },
    {
      "cell_type": "code",
      "source": [
        "# TODO: Compute the number of tokens in the corpus.\n",
        "# Remember to count each occurrence of each word. For instance, the 62,216\n",
        "# instances of \"the\" will all count here.\n",
        "ntokens = sum(count for _, count in frequency)\n",
        "print(f\"Total number of tokens: {ntokens}\")"
      ],
      "metadata": {
        "id": "-WdHjFCSC7WC",
        "outputId": "5afc5299-55ef-4b3f-e506-21f5473d75cb",
        "colab": {
          "base_uri": "https://localhost:8080/"
        }
      },
      "execution_count": 38,
      "outputs": [
        {
          "output_type": "stream",
          "name": "stdout",
          "text": [
            "Total number of tokens in the corpus: 1000000\n"
          ]
        }
      ]
    },
    {
      "cell_type": "code",
      "source": [
        "# TODO: Compute the proportion of tokens made up by the top 10 most\n",
        "# frequent words.\n",
        "top_10_count = sum(count for _, count in frequency[:10])\n",
        "proportion_top_10 = top_10_count / ntokens\n",
        "\n",
        "print(f\"Proportion of tokens made up by the top 10 most frequent words: {proportion_top_10:.4f}\")"
      ],
      "metadata": {
        "id": "V_7wOcqKAz9m",
        "outputId": "4772e7ec-90fd-47a8-c0e7-3dec265700bf",
        "colab": {
          "base_uri": "https://localhost:8080/"
        }
      },
      "execution_count": 41,
      "outputs": [
        {
          "output_type": "stream",
          "name": "stdout",
          "text": [
            "Proportion of tokens made up by the top 10 most frequent words: 0.2216\n"
          ]
        }
      ]
    },
    {
      "cell_type": "code",
      "source": [
        "# TODO: Compute the proportion of tokens made up by the words that occur\n",
        "# exactly once in this collection.\n",
        "One = [count for _, count in frequency if count == 1]\n",
        "One_token_count = sum(One)\n",
        "proportion_One = One_token_count / ntokens\n",
        "print(f\"Proportion of tokens made up by words that occur exactly once: {proportion_One:.4f}\")"
      ],
      "metadata": {
        "id": "uF-1VxcZBXMM",
        "outputId": "3ada7ba8-9606-40e4-aed4-852b67f184a0",
        "colab": {
          "base_uri": "https://localhost:8080/"
        }
      },
      "execution_count": 43,
      "outputs": [
        {
          "output_type": "stream",
          "name": "stdout",
          "text": [
            "Proportion of tokens made up by words that occur exactly once: 0.0066\n"
          ]
        }
      ]
    },
    {
      "cell_type": "markdown",
      "metadata": {
        "id": "GdiUXaXZMFqT"
      },
      "source": [
        "## Acquiring New Documents (for CS6200)\n",
        "\n",
        "For this assignment so far, you've worked with data that's already been extracted, tokenized, and counted. In this final section, you'll explore acquiring new data.\n",
        "\n",
        "One common way of acquiring data is through application programming interfaces (APIs) to various databases. The Library of Congress's [_Chronicling America_](https://chroniclingamerica.loc.gov/) site aggregates digitized US newspapers from the past two hundred years, such as the [_Seattle Star_](https://chroniclingamerica.loc.gov/lccn/sn87093407/1925-01-17/ed-1/seq-1/) from 100 years ago.\n",
        "\n",
        "You can use [the API](https://chroniclingamerica.loc.gov/about/api/) to retrieve JSON data listing all issues of the _Seattle Star_: https://chroniclingamerica.loc.gov/lccn/sn87093407.json\n",
        "\n",
        "Note the list in the `issues` field. For example, here is the record for the January 17, 1925, issue: https://chroniclingamerica.loc.gov/lccn/sn87093407/1925-01-17/ed-1.json\n",
        "\n",
        "In that issue record, you'll see records for each page, e.g.: https://chroniclingamerica.loc.gov/lccn/sn87093407/1925-01-17/ed-1/seq-1.json\n",
        "\n",
        "And inside that page record, you'll see links to data about that page in various data formats, such as JPEG, PDF, and plain text, which is what we want here: https://chroniclingamerica.loc.gov/lccn/sn87093407/1925-01-17/ed-1/seq-1/ocr.txt\n",
        "\n",
        "This plain text was transcribed from the old page images using optical character recognition (OCR) models, and so contains errors.\n",
        "\n",
        "Your task is to acquire and analyze the issues of the _Seattle Star_ from the month of January, 1925, i.e., the issues with a date field that starts with `1925-01`. This should be about the same amount of data as the million words from the Associated Press you analyzed in the last section."
      ]
    },
    {
      "cell_type": "markdown",
      "metadata": {
        "id": "EGPVnXv2O6AN"
      },
      "source": [
        "**TODO**: Write code that calls the _Chronicling America_ API to download and extract the text from the _Seattle Star_ from January 1925. You can use the `json` library from above and any other libraries you wish to fetch data from URLs. As you would when working with any production API, you may need to limit your rate of requests."
      ]
    },
    {
      "cell_type": "code",
      "metadata": {
        "id": "VeDDz1SaPLik",
        "outputId": "ff11c4ff-7eba-40d4-f23d-85adec3d8d48",
        "colab": {
          "base_uri": "https://localhost:8080/"
        }
      },
      "source": [
        "import os\n",
        "import json\n",
        "import time\n",
        "import requests\n",
        "from concurrent.futures import ThreadPoolExecutor\n",
        "\n",
        "# Base directories for caching\n",
        "CACHE_DIR = \"cache\"\n",
        "ISSUE_CACHE_DIR = os.path.join(CACHE_DIR, \"issues\")\n",
        "PAGE_CACHE_DIR = os.path.join(CACHE_DIR, \"pages\")\n",
        "OCR_OUTPUT_DIR = os.path.join(CACHE_DIR, \"ocr\")\n",
        "\n",
        "os.makedirs(ISSUE_CACHE_DIR, exist_ok=True)\n",
        "os.makedirs(PAGE_CACHE_DIR, exist_ok=True)\n",
        "os.makedirs(OCR_OUTPUT_DIR, exist_ok=True)\n",
        "\n",
        "# Base URL for newspaper metadata\n",
        "BASE_URL = \"https://chroniclingamerica.loc.gov/lccn/sn87093407.json\"\n",
        "\n",
        "# Use a session for better performance\n",
        "session = requests.Session()\n",
        "\n",
        "\n",
        "def fetch_json(url, cache_path, max_retries=5):\n",
        "    if os.path.exists(cache_path):\n",
        "        with open(cache_path, \"r\", encoding=\"utf-8\") as file:\n",
        "            return json.load(file)\n",
        "\n",
        "    wait_time = 2  # Initial wait time\n",
        "    for attempt in range(max_retries):\n",
        "        try:\n",
        "            response = session.get(url, timeout=10)\n",
        "            if response.status_code == 200:\n",
        "                data = response.json()\n",
        "                with open(cache_path, \"w\", encoding=\"utf-8\") as file:\n",
        "                    json.dump(data, file, indent=2)\n",
        "                return data\n",
        "            elif response.status_code == 429:\n",
        "                print(f\" Rate limited (429). Waiting {wait_time} sec...\")\n",
        "                time.sleep(wait_time)\n",
        "                wait_time *= 2\n",
        "            else:\n",
        "                print(f\" Failed to fetch {url} (Status {response.status_code})\")\n",
        "                return None\n",
        "        except requests.RequestException as e:\n",
        "            print(f\" Error fetching {url}: {e}\")\n",
        "\n",
        "    return None\n",
        "\n",
        "\n",
        "def fetch_ocr_text(page_json_url):\n",
        "    page_cache_file = os.path.join(PAGE_CACHE_DIR, os.path.basename(page_json_url))\n",
        "\n",
        "    page_data = fetch_json(page_json_url, page_cache_file)\n",
        "    if not page_data:\n",
        "        return \"\"\n",
        "\n",
        "    ocr_text_url = page_json_url.replace(\".json\", \"/ocr.txt\")\n",
        "    try:\n",
        "        response = session.get(ocr_text_url, timeout=10)\n",
        "        if response.status_code == 200:\n",
        "            return response.text.strip()\n",
        "        else:\n",
        "            print(f\" No OCR text found at {ocr_text_url} (Status {response.status_code})\")\n",
        "    except requests.RequestException as e:\n",
        "        print(f\" Error fetching OCR text: {e}\")\n",
        "\n",
        "    return \"\"\n",
        "\n",
        "\n",
        "def process_issue(issue_url):\n",
        "    issue_cache_file = os.path.join(ISSUE_CACHE_DIR, os.path.basename(issue_url))\n",
        "    issue_data = fetch_json(issue_url, issue_cache_file)\n",
        "\n",
        "    if not issue_data:\n",
        "        return\n",
        "\n",
        "    issue_date = issue_data.get(\"date_issued\", \"unknown\")\n",
        "    ocr_output_file = os.path.join(OCR_OUTPUT_DIR, f\"{issue_date}.txt\")\n",
        "\n",
        "    if os.path.exists(ocr_output_file):\n",
        "        print(f\" OCR text for {issue_date} already saved. Skipping...\")\n",
        "        return\n",
        "\n",
        "    print(f\" Processing issue: {issue_date}\")\n",
        "\n",
        "    page_urls = [page[\"url\"] + \".json\" if not page[\"url\"].endswith(\".json\") else page[\"url\"] for page in issue_data.get(\"pages\", [])]\n",
        "\n",
        "    # Fetch pages in parallel\n",
        "    with ThreadPoolExecutor(max_workers=5) as executor:\n",
        "        texts = list(executor.map(fetch_ocr_text, page_urls))\n",
        "\n",
        "    # Save extracted OCR text\n",
        "    extracted_texts = [text for text in texts if text.strip()]\n",
        "    if extracted_texts:\n",
        "        with open(ocr_output_file, \"w\", encoding=\"utf-8\") as f:\n",
        "            f.write(\"\\n\\n\".join(extracted_texts))\n",
        "        print(f\" Saved OCR text for {issue_date}\")\n",
        "    else:\n",
        "        print(f\" No OCR text extracted for {issue_date}\")\n",
        "\n",
        "\n",
        "# Fetch newspaper metadata\n",
        "metadata_cache_path = os.path.join(CACHE_DIR, \"seattle_star_metadata.json\")\n",
        "newspaper_data = fetch_json(BASE_URL, metadata_cache_path)\n",
        "\n",
        "if not newspaper_data:\n",
        "    print(\" Failed to fetch newspaper metadata. Exiting.\")\n",
        "    exit()\n",
        "\n",
        "# Extract issues for January 1925\n",
        "issues = newspaper_data.get(\"issues\", [])\n",
        "january_1925_issues = sorted(set(\n",
        "    issue[\"url\"] + \".json\" if not issue[\"url\"].endswith(\".json\") else issue[\"url\"]\n",
        "    for issue in issues if issue[\"date_issued\"].startswith(\"1925-01\")\n",
        "))\n",
        "\n",
        "print(f\" Found {len(january_1925_issues)} issues from January 1925.\")\n",
        "\n",
        "# Process all issues sequentially\n",
        "for issue_url in january_1925_issues:\n",
        "    process_issue(issue_url)\n",
        "\n",
        "print(\" Data extraction complete!\")\n"
      ],
      "execution_count": 28,
      "outputs": [
        {
          "output_type": "stream",
          "name": "stdout",
          "text": [
            " Found 27 issues from January 1925.\n",
            " OCR text for 1925-01-01 already saved. Skipping...\n",
            " OCR text for 1925-01-01 already saved. Skipping...\n",
            " OCR text for 1925-01-01 already saved. Skipping...\n",
            " OCR text for 1925-01-01 already saved. Skipping...\n",
            " OCR text for 1925-01-01 already saved. Skipping...\n",
            " OCR text for 1925-01-01 already saved. Skipping...\n",
            " OCR text for 1925-01-01 already saved. Skipping...\n",
            " OCR text for 1925-01-01 already saved. Skipping...\n",
            " OCR text for 1925-01-01 already saved. Skipping...\n",
            " OCR text for 1925-01-01 already saved. Skipping...\n",
            " OCR text for 1925-01-01 already saved. Skipping...\n",
            " OCR text for 1925-01-01 already saved. Skipping...\n",
            " OCR text for 1925-01-01 already saved. Skipping...\n",
            " OCR text for 1925-01-01 already saved. Skipping...\n",
            " OCR text for 1925-01-01 already saved. Skipping...\n",
            " OCR text for 1925-01-01 already saved. Skipping...\n",
            " OCR text for 1925-01-01 already saved. Skipping...\n",
            " OCR text for 1925-01-01 already saved. Skipping...\n",
            " OCR text for 1925-01-01 already saved. Skipping...\n",
            " OCR text for 1925-01-01 already saved. Skipping...\n",
            " OCR text for 1925-01-01 already saved. Skipping...\n",
            " OCR text for 1925-01-01 already saved. Skipping...\n",
            " OCR text for 1925-01-01 already saved. Skipping...\n",
            " OCR text for 1925-01-01 already saved. Skipping...\n",
            " OCR text for 1925-01-01 already saved. Skipping...\n",
            " OCR text for 1925-01-01 already saved. Skipping...\n",
            " OCR text for 1925-01-01 already saved. Skipping...\n",
            " Data extraction complete!\n"
          ]
        }
      ]
    },
    {
      "cell_type": "markdown",
      "metadata": {
        "id": "L1-oRTixPKbw"
      },
      "source": [
        "**TODO**: Write code to tokenize the text and count the resulting terms in each document. Since this data comes from automatically transcribing printed pages, some words may be hyphenated across line breaks. There is more than one right way to tokenize this data, so add comments to your code documenting your choices."
      ]
    },
    {
      "cell_type": "code",
      "metadata": {
        "id": "Ydsh0h74Pnlh",
        "outputId": "76c0f3d6-ff49-4079-b754-ddd589a34551",
        "colab": {
          "base_uri": "https://localhost:8080/"
        }
      },
      "source": [
        "# TODO: Tokenization code here.\n",
        "\n",
        "import re\n",
        "from collections import Counter\n",
        "\n",
        "# Load OCR text from the saved file\n",
        "ocr_file = \"cache/ocr/1925-01-01.txt\"\n",
        "\n",
        "if not os.path.exists(ocr_file):\n",
        "    print(f\" OCR file not found: {ocr_file}\")\n",
        "    exit()\n",
        "\n",
        "print(f\" Loading OCR text from: {ocr_file}\")\n",
        "\n",
        "with open(ocr_file, \"r\", encoding=\"utf-8\") as f:\n",
        "    ocr_text = f.read()\n",
        "\n",
        "# Function to clean and tokenize text\n",
        "def tokenize(text):\n",
        "    text = text.lower()\n",
        "    text = re.sub(r\"[^a-zA-Z0-9\\s]\", \"\", text)\n",
        "    tokens = text.split()\n",
        "    return tokens\n",
        "\n",
        "# Apply tokenization\n",
        "tokens = tokenize(ocr_text)\n",
        "\n",
        "# Count word frequencies\n",
        "word_counts = Counter(tokens)\n",
        "\n",
        "# Display sample results\n",
        "print(f\" Total Tokens: {len(tokens)}\")\n",
        "print(f\" Unique Words: {len(word_counts)}\")\n",
        "\n",
        "print(\"\\n Top 10 Most Frequent Words:\")\n",
        "for word, count in word_counts.most_common(10):\n",
        "    print(f\"{word}: {count}\")"
      ],
      "execution_count": 29,
      "outputs": [
        {
          "output_type": "stream",
          "name": "stdout",
          "text": [
            " Loading OCR text from: cache/ocr/1925-01-01.txt\n",
            " Total Tokens: 48703\n",
            " Unique Words: 13483\n",
            "\n",
            " Top 10 Most Frequent Words:\n",
            "the: 2023\n",
            "and: 1178\n",
            "of: 1133\n",
            "a: 839\n",
            "to: 797\n",
            "in: 759\n",
            "i: 525\n",
            "for: 419\n",
            "e: 349\n",
            "at: 322\n"
          ]
        }
      ]
    },
    {
      "cell_type": "markdown",
      "metadata": {
        "id": "D-boFCotQ4Ur"
      },
      "source": [
        "**TODO**: Plot a graph of the log rank against log frequency for your collection, as you did for the sample collection above."
      ]
    },
    {
      "cell_type": "code",
      "source": [
        "sorted_terms = sorted(word_counts.items(), key=lambda x: x[1], reverse=True)\n",
        "\n",
        "\n",
        "ranks = np.arange(1, len(sorted_terms) + 1)\n",
        "frequencies = np.array([count for _, count in sorted_terms])\n",
        "\n",
        "\n",
        "plt.figure(figsize=(8, 6))\n",
        "plt.loglog(ranks, frequencies, marker=\"o\", linestyle=\"None\", markersize=3, alpha=0.3)\n",
        "\n",
        "plt.xlabel(\"Log (Rank)\")\n",
        "plt.ylabel(\"Log (Frequency)\")\n",
        "plt.title(\"Zipf's Law: Word Frequency Distribution\")\n",
        "plt.grid(True, which=\"both\", linestyle=\"--\", linewidth=0.5)\n",
        "\n",
        "plt.show()"
      ],
      "metadata": {
        "id": "-Z35asgBjiqO",
        "outputId": "11b446de-308a-4b6c-bf9f-2cff1bb6a4b0",
        "colab": {
          "base_uri": "https://localhost:8080/",
          "height": 549
        }
      },
      "execution_count": 30,
      "outputs": [
        {
          "output_type": "display_data",
          "data": {
            "text/plain": [
              "<Figure size 800x600 with 1 Axes>"
            ],
            "image/png": "[encoded data removed]"
          },
          "metadata": {}
        }
      ]
    },
    {
      "cell_type": "markdown",
      "source": [
        "**TODO**: What do you observe about the differences between the distributions of the Associated Press and Seattle Star collections? In this text box, give some possible reasons for these differences."
      ],
      "metadata": {
        "id": "D5B-h__CjpvI"
      }
    }
  ]
}